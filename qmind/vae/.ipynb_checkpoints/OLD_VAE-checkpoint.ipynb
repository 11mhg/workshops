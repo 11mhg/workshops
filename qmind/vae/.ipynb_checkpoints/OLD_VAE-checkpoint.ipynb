{
 "cells": [
  {
   "cell_type": "code",
   "execution_count": 1,
   "metadata": {
    "colab": {},
    "colab_type": "code",
    "id": "vZHfzCzuAfxm"
   },
   "outputs": [],
   "source": [
    "# !pip install pixiedust git+https://github.com/Kings-Distributed-Systems/pixiedust_node#egg=pixiedust_node"
   ]
  },
  {
   "cell_type": "code",
   "execution_count": 1,
   "metadata": {
    "colab": {},
    "colab_type": "code",
    "id": "nZ7FQX1fAfxx"
   },
   "outputs": [],
   "source": [
    "# import pixiedust\n",
    "# import pixiedust_node\n",
    "import numpy as np\n",
    "import tensorflow as tf\n",
    "from matplotlib import pyplot as plt"
   ]
  },
  {
   "cell_type": "code",
   "execution_count": 3,
   "metadata": {
    "colab": {},
    "colab_type": "code",
    "id": "vEfbPooxAfx6"
   },
   "outputs": [],
   "source": [
    "# ID_KEY_LOC = '/home/mgasmallah/DCP/keys/id.keystore'\n",
    "# ACC_KEY_LOC= '/home/mgasmallah/DCP/keys/AISTEST.keystore'\n",
    "# SCHEDULER  = 'https://scheduler.distributed.computer'\n",
    "\n",
    "# node.clear();\n",
    "# !job-utility cancelAllJobs -I $ID_KEY_LOC --default-bank-account-file $ACC_KEY_LOC --scheduler $SCHEDULER\n",
    "# npm.install( 'dcp-client' )"
   ]
  },
  {
   "cell_type": "code",
   "execution_count": 4,
   "metadata": {
    "colab": {},
    "colab_type": "code",
    "id": "4yrvb5FcAfyA"
   },
   "outputs": [],
   "source": [
    "# %%node\n",
    "\n",
    "# process.argv.push('-I', ID_KEY_LOC, '--default-bank-account-file', ACC_KEY_LOC, '--scheduler', SCHEDULER)\n",
    "# require('dcp-client').initSync(process.argv)\n",
    "# const compute = require('dcp/compute');\n",
    "# const wallet = require('dcp/wallet');\n",
    "# const dcpCli = require('dcp/dcp-cli');\n",
    "\n",
    "# var accountKeystore;\n",
    "# var identityKeystore;\n",
    "\n",
    "# (async function(){\n",
    "#     identityKeystore = await dcpCli.getIdentityKeystore();\n",
    "#     wallet.addId(identityKeystore);\n",
    "#     accountKeystore = await dcpCli.getAccountKeystore();\n",
    "#     console.log(\"Keystores loaded!\");\n",
    "# })();"
   ]
  },
  {
   "cell_type": "code",
   "execution_count": 2,
   "metadata": {
    "colab": {
     "base_uri": "https://localhost:8080/",
     "height": 35
    },
    "colab_type": "code",
    "id": "h8nEEUpfAfyF",
    "outputId": "fef6e96f-f5e0-4889-e613-f4408da04834"
   },
   "outputs": [
    {
     "name": "stdout",
     "output_type": "stream",
     "text": [
      "0.0 1.0 float32 (50000, 32, 32, 3)\n"
     ]
    }
   ],
   "source": [
    "(_xtrain, _ytrain), (_xtest, _ytest) = tf.keras.datasets.cifar10.load_data()\n",
    "_xtrain = _xtrain.astype(np.float32) / 255.\n",
    "_xtest  = _xtest.astype(np.float32)  / 255.\n",
    "print(_xtrain.min(), _xtrain.max(), _xtrain.dtype, _xtrain.shape)"
   ]
  },
  {
   "cell_type": "code",
   "execution_count": 6,
   "metadata": {
    "colab": {},
    "colab_type": "code",
    "id": "QkBksek7AfyL"
   },
   "outputs": [],
   "source": [
    "class Encoder(tf.keras.Model):\n",
    "    def __init__(self, latent_dims=10):\n",
    "        super(Encoder, self).__init__()\n",
    "        self.latent_dims = latent_dims\n",
    "        self.ls = [\n",
    "            tf.keras.layers.Conv2D(3, [3,3], strides=[1,1], padding='same', activation='relu'),\n",
    "            tf.keras.layers.Conv2D(64,[3,3],strides=[2,2], padding='same', activation='relu'),\n",
    "            tf.keras.layers.Conv2D(128,[3,3],strides=[2,2], padding='same', activation='relu'),\n",
    "            tf.keras.layers.Conv2D(256, [1,1], strides=[2,2], padding='same', activation='relu'),\n",
    "            tf.keras.layers.Flatten(),\n",
    "            tf.keras.layers.Dense(self.latent_dims * 2, activation='linear')\n",
    "        ]\n",
    "    \n",
    "    def call(self, x):\n",
    "        for l in self.ls:\n",
    "            x = l(x)\n",
    "        return x\n",
    "\n",
    "class Reparameterize(tf.keras.layers.Layer):\n",
    "    def __init__(self):\n",
    "        super(Reparameterize, self).__init__()\n",
    "        def sample(args):\n",
    "            z_mean, z_log_var = args\n",
    "            eps = tf.random.normal(shape=tf.shape(z_mean), mean=0.)\n",
    "            return z_mean + tf.exp(z_log_var) * eps\n",
    "        self.l = tf.keras.layers.Lambda(\n",
    "            sample\n",
    "        )\n",
    "        \n",
    "    def call(self, mean, logvar):\n",
    "        return self.l([mean, logvar])\n",
    "\n",
    "class Decoder(tf.keras.Model):\n",
    "    def __init__(self, latent_dims=10):\n",
    "        super(Decoder, self).__init__()\n",
    "        self.latent_dims = latent_dims\n",
    "        self.ls = [\n",
    "            tf.keras.layers.Dense(self.latent_dims*2, activation='relu'),\n",
    "            tf.keras.layers.Dense(4096, activation='relu'),\n",
    "            tf.keras.layers.Reshape([4,4,256]),\n",
    "            tf.keras.layers.Conv2DTranspose(256, [3,3], strides=[2,2], padding='same', activation='relu'),\n",
    "            tf.keras.layers.Conv2DTranspose(128, [3,3], strides=[2,2], padding='same', activation='relu'),\n",
    "            tf.keras.layers.Conv2DTranspose(64, [3,3], strides=[2,2], padding='same', activation='relu'),\n",
    "            tf.keras.layers.Conv2DTranspose(3, [3,3], strides=[1,1], padding='same', activation='linear'),\n",
    "        ]\n",
    "    def call(self, x):\n",
    "        for l in self.ls:\n",
    "            x = l(x)\n",
    "        return x\n",
    "        "
   ]
  },
  {
   "cell_type": "code",
   "execution_count": 7,
   "metadata": {
    "colab": {},
    "colab_type": "code",
    "id": "WAbgGMzDAfyQ"
   },
   "outputs": [],
   "source": [
    "# e = Encoder()\n",
    "# r = Reparameterize()\n",
    "# d = Decoder()"
   ]
  },
  {
   "cell_type": "code",
   "execution_count": 8,
   "metadata": {
    "colab": {},
    "colab_type": "code",
    "id": "PhiCSKsUAfyU"
   },
   "outputs": [],
   "source": [
    "# print(_xtrain[0:1].shape)\n",
    "# _o = e(_xtrain[0:1,...])\n",
    "# _mean, _logvar = tf.split(_o, 2, axis=-1)\n",
    "# print(_mean.shape)\n",
    "# _oo = r(_mean, _logvar)\n",
    "# # print(_oo.shape)\n",
    "# _ooo = d(_oo)\n",
    "# print(_ooo.shape)"
   ]
  },
  {
   "cell_type": "code",
   "execution_count": 9,
   "metadata": {
    "colab": {},
    "colab_type": "code",
    "id": "5vF5a9u6AfyY"
   },
   "outputs": [],
   "source": [
    "class VAE(tf.keras.Model):\n",
    "    def __init__(self, latent_dims=10):\n",
    "        super(VAE, self).__init__()\n",
    "        \n",
    "        self.latent_dims = latent_dims\n",
    "        self.encoder = Encoder(self.latent_dims)\n",
    "        self.reparameterizer = Reparameterize()\n",
    "        self.decoder = Decoder(self.latent_dims)\n",
    "    \n",
    "    def encode(self, x):\n",
    "        x = self.encoder(x)\n",
    "        mean, logvar = tf.split(x, 2, axis=1)\n",
    "        return mean, logvar\n",
    "    \n",
    "    def decode(self,z):\n",
    "        return self.decoder(z)\n",
    "    \n",
    "    def log_normal_pdf(self,sample, mean, logvar, raxis=1):\n",
    "        log2pi = tf.math.log(2. * np.pi)\n",
    "        return tf.reduce_sum(\n",
    "            -.5 * ((sample-mean) ** 2. * tf.exp(-logvar) + logvar + log2pi),\n",
    "            axis=raxis)\n",
    "    \n",
    "    def vae_loss(self,x_true, x_pred_logit, mean, logvar, z):\n",
    "        cross_ent = tf.nn.sigmoid_cross_entropy_with_logits(logits=x_pred_logit, labels=x_true)\n",
    "        logpx_z = -tf.reduce_sum(cross_ent, axis=[1,2,3])\n",
    "        logpz = self.log_normal_pdf(z, 0., 0.)\n",
    "        logqz_x = self.log_normal_pdf(z, mean, logvar)\n",
    "        return - tf.reduce_mean(logpx_z + logpz - logqz_x)\n",
    "    \n",
    "    def call(self,x):\n",
    "        mean, logvar = self.encode(x)\n",
    "        z = self.reparameterizer(mean, logvar)\n",
    "        x_logit = self.decode(z)\n",
    "        loss = self.vae_loss(x, x_logit, mean, logvar, z)\n",
    "        self.add_loss(loss, inputs=x)\n",
    "        return x_logit"
   ]
  },
  {
   "cell_type": "code",
   "execution_count": 10,
   "metadata": {
    "colab": {
     "base_uri": "https://localhost:8080/",
     "height": 35
    },
    "colab_type": "code",
    "id": "fdJFk29mAfyd",
    "outputId": "4de00f4d-03b9-4b24-c3f8-9144db94b5f3"
   },
   "outputs": [
    {
     "data": {
      "text/plain": [
       "TensorShape([10, 32, 32, 3])"
      ]
     },
     "execution_count": 10,
     "metadata": {
      "tags": []
     },
     "output_type": "execute_result"
    }
   ],
   "source": [
    "vae = VAE(512)\n",
    "\n",
    "vae(_xtrain[0:10,...]).shape"
   ]
  },
  {
   "cell_type": "code",
   "execution_count": 11,
   "metadata": {
    "colab": {
     "base_uri": "https://localhost:8080/",
     "height": 267
    },
    "colab_type": "code",
    "id": "AJXnCsTqAfyh",
    "outputId": "55c840d1-266d-487e-ec1a-fe4c4c0b7f89"
   },
   "outputs": [
    {
     "name": "stdout",
     "output_type": "stream",
     "text": [
      "Model: \"vae\"\n",
      "_________________________________________________________________\n",
      "Layer (type)                 Output Shape              Param #   \n",
      "=================================================================\n",
      "encoder (Encoder)            multiple                  4304084   \n",
      "_________________________________________________________________\n",
      "reparameterize (Reparameteri multiple                  0         \n",
      "_________________________________________________________________\n",
      "decoder (Decoder)            multiple                  5684355   \n",
      "=================================================================\n",
      "Total params: 9,988,439\n",
      "Trainable params: 9,988,439\n",
      "Non-trainable params: 0\n",
      "_________________________________________________________________\n"
     ]
    }
   ],
   "source": [
    "vae.compile(optimizer='rmsprop', loss=None)\n",
    "vae.summary()"
   ]
  },
  {
   "cell_type": "code",
   "execution_count": 12,
   "metadata": {
    "colab": {
     "base_uri": "https://localhost:8080/",
     "height": 1000
    },
    "colab_type": "code",
    "id": "spT5Bq-4Afym",
    "outputId": "1a2437f3-c5b7-4b19-e8f1-ee4b69d4e5e4",
    "scrolled": true
   },
   "outputs": [
    {
     "name": "stdout",
     "output_type": "stream",
     "text": [
      "Epoch 1/100\n",
      "98/98 [==============================] - ETA: 0s - loss: 2095.3679WARNING:tensorflow:Callbacks method `on_test_batch_end` is slow compared to the batch time (batch time: 0.0043s vs `on_test_batch_end` time: 0.0311s). Check your callbacks.\n",
      "98/98 [==============================] - 11s 109ms/step - loss: 2095.3679 - val_loss: 2051.2925\n",
      "Epoch 2/100\n",
      "98/98 [==============================] - 10s 101ms/step - loss: 2028.8777 - val_loss: 2019.6409\n",
      "Epoch 3/100\n",
      "98/98 [==============================] - 10s 101ms/step - loss: 2011.0162 - val_loss: 2019.6761\n",
      "Epoch 4/100\n",
      "98/98 [==============================] - 10s 102ms/step - loss: 1986.1572 - val_loss: 2020.0950\n",
      "Epoch 5/100\n",
      "98/98 [==============================] - 10s 102ms/step - loss: 1971.0948 - val_loss: 1984.9238\n",
      "Epoch 6/100\n",
      "98/98 [==============================] - 10s 103ms/step - loss: 1957.7103 - val_loss: 1943.7986\n",
      "Epoch 7/100\n",
      "98/98 [==============================] - 10s 104ms/step - loss: 1947.6562 - val_loss: 1934.1136\n",
      "Epoch 8/100\n",
      "98/98 [==============================] - 10s 104ms/step - loss: 1940.6704 - val_loss: 1955.6699\n",
      "Epoch 9/100\n",
      "98/98 [==============================] - 10s 104ms/step - loss: 1932.5580 - val_loss: 1917.8518\n",
      "Epoch 10/100\n",
      "98/98 [==============================] - 10s 105ms/step - loss: 1924.1516 - val_loss: 1909.4417\n",
      "Epoch 11/100\n",
      "98/98 [==============================] - 10s 105ms/step - loss: 1916.8455 - val_loss: 1908.0338\n",
      "Epoch 12/100\n",
      "98/98 [==============================] - 10s 105ms/step - loss: 1909.7618 - val_loss: 1905.2738\n",
      "Epoch 13/100\n",
      "98/98 [==============================] - 10s 105ms/step - loss: 1903.0684 - val_loss: 1893.5240\n",
      "Epoch 14/100\n",
      "98/98 [==============================] - 10s 105ms/step - loss: 1895.9839 - val_loss: 1899.4607\n",
      "Epoch 15/100\n",
      "98/98 [==============================] - 10s 106ms/step - loss: 1890.6644 - val_loss: 1900.6852\n",
      "Epoch 16/100\n",
      "98/98 [==============================] - 10s 106ms/step - loss: 1886.0502 - val_loss: 1879.7338\n",
      "Epoch 17/100\n",
      "98/98 [==============================] - 10s 106ms/step - loss: 1882.1678 - val_loss: 1889.3590\n",
      "Epoch 18/100\n",
      "98/98 [==============================] - 11s 107ms/step - loss: 1878.6926 - val_loss: 1878.7328\n",
      "Epoch 19/100\n",
      "98/98 [==============================] - 11s 107ms/step - loss: 1876.0955 - val_loss: 1879.8379\n",
      "Epoch 20/100\n",
      "98/98 [==============================] - 11s 107ms/step - loss: 1873.6072 - val_loss: 1870.8840\n",
      "Epoch 21/100\n",
      "98/98 [==============================] - 11s 108ms/step - loss: 1870.4230 - val_loss: 1872.3486\n",
      "Epoch 22/100\n",
      "98/98 [==============================] - 11s 108ms/step - loss: 1867.1837 - val_loss: 1873.3473\n",
      "Epoch 23/100\n",
      "98/98 [==============================] - 11s 108ms/step - loss: 1865.4103 - val_loss: 1864.6351\n",
      "Epoch 24/100\n",
      "98/98 [==============================] - 11s 108ms/step - loss: 1863.3036 - val_loss: 1865.6381\n",
      "Epoch 25/100\n",
      "98/98 [==============================] - 11s 108ms/step - loss: 1861.8907 - val_loss: 1872.7047\n",
      "Epoch 26/100\n",
      "98/98 [==============================] - 11s 108ms/step - loss: 1860.0520 - val_loss: 1857.1580\n",
      "Epoch 27/100\n",
      "98/98 [==============================] - 11s 108ms/step - loss: 1857.5118 - val_loss: 1863.8689\n",
      "Epoch 28/100\n",
      "98/98 [==============================] - 11s 108ms/step - loss: 1856.1398 - val_loss: 1857.8379\n",
      "Epoch 29/100\n",
      "98/98 [==============================] - 11s 108ms/step - loss: 1853.8783 - val_loss: 1852.4594\n",
      "Epoch 30/100\n",
      "98/98 [==============================] - 11s 108ms/step - loss: 1852.5394 - val_loss: 1858.4059\n",
      "Epoch 31/100\n",
      "98/98 [==============================] - 11s 108ms/step - loss: 1850.8163 - val_loss: 1852.7859\n",
      "Epoch 32/100\n",
      "98/98 [==============================] - 11s 108ms/step - loss: 1849.0640 - val_loss: 1855.5750\n",
      "Epoch 33/100\n",
      "98/98 [==============================] - 11s 108ms/step - loss: 1847.5192 - val_loss: 1853.7621\n",
      "Epoch 34/100\n",
      "98/98 [==============================] - 11s 108ms/step - loss: 1846.3738 - val_loss: 1864.7363\n",
      "Epoch 35/100\n",
      "98/98 [==============================] - 11s 108ms/step - loss: 1845.0280 - val_loss: 1855.1234\n",
      "Epoch 36/100\n",
      "98/98 [==============================] - 11s 108ms/step - loss: 1843.7076 - val_loss: 1841.8040\n",
      "Epoch 37/100\n",
      "98/98 [==============================] - 11s 108ms/step - loss: 1842.9855 - val_loss: 1841.5072\n",
      "Epoch 38/100\n",
      "98/98 [==============================] - 11s 108ms/step - loss: 1841.4839 - val_loss: 1847.1514\n",
      "Epoch 39/100\n",
      "98/98 [==============================] - 11s 108ms/step - loss: 1840.0208 - val_loss: 1857.8835\n",
      "Epoch 40/100\n",
      "98/98 [==============================] - 11s 108ms/step - loss: 1839.7504 - val_loss: 1838.7744\n",
      "Epoch 41/100\n",
      "98/98 [==============================] - 11s 108ms/step - loss: 1838.6198 - val_loss: 1845.2959\n",
      "Epoch 42/100\n",
      "98/98 [==============================] - 11s 108ms/step - loss: 1838.0665 - val_loss: 1838.4426\n",
      "Epoch 43/100\n",
      "98/98 [==============================] - 11s 108ms/step - loss: 1837.0771 - val_loss: 1837.2725\n",
      "Epoch 44/100\n",
      "98/98 [==============================] - 11s 108ms/step - loss: 1836.4655 - val_loss: 1839.3992\n",
      "Epoch 45/100\n",
      "98/98 [==============================] - 11s 108ms/step - loss: 1835.9420 - val_loss: 1840.9528\n",
      "Epoch 46/100\n",
      "98/98 [==============================] - 11s 108ms/step - loss: 1835.2473 - val_loss: 1839.8972\n",
      "Epoch 47/100\n",
      "98/98 [==============================] - 11s 108ms/step - loss: 1834.5802 - val_loss: 1835.5072\n",
      "Epoch 48/100\n",
      "98/98 [==============================] - 11s 108ms/step - loss: 1833.8823 - val_loss: 1838.2526\n",
      "Epoch 49/100\n",
      "98/98 [==============================] - 11s 108ms/step - loss: 1833.3356 - val_loss: 1836.6859\n",
      "Epoch 50/100\n",
      "98/98 [==============================] - 11s 108ms/step - loss: 1832.7338 - val_loss: 1840.9929\n",
      "Epoch 51/100\n",
      "98/98 [==============================] - 11s 108ms/step - loss: 1832.0333 - val_loss: 1833.9348\n",
      "Epoch 52/100\n",
      "98/98 [==============================] - 11s 108ms/step - loss: 1831.1650 - val_loss: 1838.6511\n",
      "Epoch 53/100\n",
      "98/98 [==============================] - 11s 108ms/step - loss: 1831.0730 - val_loss: 1835.9576\n",
      "Epoch 54/100\n",
      "98/98 [==============================] - 11s 108ms/step - loss: 1830.3485 - val_loss: 1837.8170\n",
      "Epoch 55/100\n",
      "98/98 [==============================] - 11s 108ms/step - loss: 1830.0452 - val_loss: 1840.0299\n",
      "Epoch 56/100\n",
      "98/98 [==============================] - 11s 108ms/step - loss: 1829.6095 - val_loss: 1835.2240\n",
      "Epoch 57/100\n",
      "98/98 [==============================] - 11s 108ms/step - loss: 1829.1517 - val_loss: 1840.8346\n",
      "Epoch 58/100\n",
      "98/98 [==============================] - 11s 108ms/step - loss: 1828.7843 - val_loss: 1832.9459\n",
      "Epoch 59/100\n",
      "98/98 [==============================] - 11s 108ms/step - loss: 1828.2788 - val_loss: 1831.2229\n",
      "Epoch 60/100\n",
      "98/98 [==============================] - 11s 108ms/step - loss: 1827.9580 - val_loss: 1834.0173\n",
      "Epoch 61/100\n",
      "98/98 [==============================] - 11s 108ms/step - loss: 1827.2609 - val_loss: 1830.7366\n",
      "Epoch 62/100\n",
      "98/98 [==============================] - 11s 108ms/step - loss: 1826.8125 - val_loss: 1837.3668\n",
      "Epoch 63/100\n",
      "98/98 [==============================] - 11s 108ms/step - loss: 1826.4937 - val_loss: 1829.3877\n",
      "Epoch 64/100\n",
      "98/98 [==============================] - 11s 108ms/step - loss: 1826.2085 - val_loss: 1832.8766\n",
      "Epoch 65/100\n",
      "98/98 [==============================] - 11s 108ms/step - loss: 1825.8324 - val_loss: 1835.0990\n",
      "Epoch 66/100\n",
      "98/98 [==============================] - 11s 108ms/step - loss: 1825.4489 - val_loss: 1830.3401\n",
      "Epoch 67/100\n",
      "98/98 [==============================] - 11s 108ms/step - loss: 1825.2021 - val_loss: 1832.6882\n",
      "Epoch 68/100\n",
      "98/98 [==============================] - 11s 108ms/step - loss: 1824.7446 - val_loss: 1828.8627\n",
      "Epoch 69/100\n",
      "98/98 [==============================] - 11s 108ms/step - loss: 1824.2603 - val_loss: 1830.3920\n",
      "Epoch 70/100\n",
      "98/98 [==============================] - 11s 108ms/step - loss: 1823.9397 - val_loss: 1829.8018\n",
      "Epoch 71/100\n",
      "98/98 [==============================] - 11s 108ms/step - loss: 1823.9318 - val_loss: 1830.3838\n",
      "Epoch 72/100\n",
      "98/98 [==============================] - 11s 108ms/step - loss: 1823.2843 - val_loss: 1833.3787\n",
      "Epoch 73/100\n",
      "98/98 [==============================] - 11s 108ms/step - loss: 1823.1663 - val_loss: 1830.2467\n",
      "Epoch 74/100\n",
      "98/98 [==============================] - 11s 108ms/step - loss: 1822.9293 - val_loss: 1832.9519\n",
      "Epoch 75/100\n",
      "98/98 [==============================] - 11s 108ms/step - loss: 1822.8308 - val_loss: 1829.5768\n",
      "Epoch 76/100\n",
      "98/98 [==============================] - 11s 108ms/step - loss: 1822.1357 - val_loss: 1827.3496\n",
      "Epoch 77/100\n",
      "98/98 [==============================] - 11s 108ms/step - loss: 1822.2062 - val_loss: 1828.6604\n",
      "Epoch 78/100\n",
      "98/98 [==============================] - 11s 108ms/step - loss: 1821.9210 - val_loss: 1832.1106\n",
      "Epoch 79/100\n",
      "98/98 [==============================] - 11s 108ms/step - loss: 1821.7543 - val_loss: 1828.1711\n",
      "Epoch 80/100\n",
      "98/98 [==============================] - 11s 108ms/step - loss: 1821.2733 - val_loss: 1829.5159\n",
      "Epoch 81/100\n",
      "98/98 [==============================] - 11s 108ms/step - loss: 1821.2572 - val_loss: 1826.5566\n",
      "Epoch 82/100\n",
      "98/98 [==============================] - 11s 108ms/step - loss: 1820.8705 - val_loss: 1832.9664\n",
      "Epoch 83/100\n",
      "98/98 [==============================] - 11s 108ms/step - loss: 1820.5626 - val_loss: 1833.2379\n",
      "Epoch 84/100\n",
      "98/98 [==============================] - 11s 108ms/step - loss: 1820.5146 - val_loss: 1826.8265\n",
      "Epoch 85/100\n",
      "98/98 [==============================] - 11s 108ms/step - loss: 1820.1791 - val_loss: 1832.5547\n",
      "Epoch 86/100\n",
      "98/98 [==============================] - 11s 108ms/step - loss: 1819.9041 - val_loss: 1836.0544\n",
      "Epoch 87/100\n",
      "98/98 [==============================] - 11s 108ms/step - loss: 1819.4755 - val_loss: 1831.7448\n",
      "Epoch 88/100\n",
      "98/98 [==============================] - 11s 108ms/step - loss: 1819.4702 - val_loss: 1831.4246\n",
      "Epoch 89/100\n",
      "98/98 [==============================] - 11s 108ms/step - loss: 1819.2028 - val_loss: 1826.2246\n",
      "Epoch 90/100\n",
      "98/98 [==============================] - 11s 108ms/step - loss: 1818.9073 - val_loss: 1827.9255\n",
      "Epoch 91/100\n",
      "98/98 [==============================] - 11s 108ms/step - loss: 1818.9088 - val_loss: 1832.3688\n",
      "Epoch 92/100\n",
      "98/98 [==============================] - 11s 108ms/step - loss: 1818.5182 - val_loss: 1824.7281\n",
      "Epoch 93/100\n",
      "98/98 [==============================] - 11s 108ms/step - loss: 1818.3832 - val_loss: 1844.7897\n",
      "Epoch 94/100\n",
      "98/98 [==============================] - 11s 108ms/step - loss: 1817.9084 - val_loss: 1845.4226\n",
      "Epoch 95/100\n",
      "98/98 [==============================] - 11s 108ms/step - loss: 1818.1729 - val_loss: 1830.1584\n",
      "Epoch 96/100\n",
      "98/98 [==============================] - 11s 108ms/step - loss: 1818.1646 - val_loss: 1828.2361\n",
      "Epoch 97/100\n",
      "98/98 [==============================] - 11s 108ms/step - loss: 1817.7345 - val_loss: 1828.9410\n",
      "Epoch 98/100\n",
      "98/98 [==============================] - 11s 108ms/step - loss: 1817.5525 - val_loss: 1831.6625\n",
      "Epoch 99/100\n",
      "98/98 [==============================] - 11s 108ms/step - loss: 1817.3820 - val_loss: 1831.8660\n",
      "Epoch 100/100\n",
      "98/98 [==============================] - 11s 108ms/step - loss: 1816.9766 - val_loss: 1832.9148\n"
     ]
    }
   ],
   "source": [
    "_history = vae.fit(_xtrain, \n",
    "                  shuffle=True,\n",
    "                  epochs = 100,\n",
    "                  batch_size=512,\n",
    "                  validation_data=(_xtest, None),\n",
    "                   callbacks=[tf.keras.callbacks.EarlyStopping(patience=10)])"
   ]
  },
  {
   "cell_type": "code",
   "execution_count": 13,
   "metadata": {
    "colab": {
     "base_uri": "https://localhost:8080/",
     "height": 321
    },
    "colab_type": "code",
    "id": "XnZ6Ia4mAfyq",
    "outputId": "819b6eca-d500-4505-c270-f57908f98cfb"
   },
   "outputs": [
    {
     "name": "stdout",
     "output_type": "stream",
     "text": [
      "{'loss': [2095.367919921875, 2028.877685546875, 2011.0162353515625, 1986.1572265625, 1971.0948486328125, 1957.7103271484375, 1947.65625, 1940.67041015625, 1932.5579833984375, 1924.151611328125, 1916.845458984375, 1909.7618408203125, 1903.068359375, 1895.98388671875, 1890.6644287109375, 1886.0501708984375, 1882.1678466796875, 1878.692626953125, 1876.095458984375, 1873.607177734375, 1870.4229736328125, 1867.1837158203125, 1865.4102783203125, 1863.3035888671875, 1861.8907470703125, 1860.052001953125, 1857.5118408203125, 1856.1397705078125, 1853.8782958984375, 1852.5394287109375, 1850.8162841796875, 1849.06396484375, 1847.5191650390625, 1846.373779296875, 1845.0279541015625, 1843.7076416015625, 1842.9854736328125, 1841.48388671875, 1840.020751953125, 1839.7503662109375, 1838.6197509765625, 1838.0665283203125, 1837.0771484375, 1836.4654541015625, 1835.9420166015625, 1835.247314453125, 1834.5802001953125, 1833.88232421875, 1833.3355712890625, 1832.7337646484375, 1832.0333251953125, 1831.1650390625, 1831.072998046875, 1830.3485107421875, 1830.045166015625, 1829.6094970703125, 1829.1517333984375, 1828.7843017578125, 1828.27880859375, 1827.9580078125, 1827.2608642578125, 1826.8125, 1826.49365234375, 1826.20849609375, 1825.8323974609375, 1825.4488525390625, 1825.2021484375, 1824.74462890625, 1824.26025390625, 1823.939697265625, 1823.9317626953125, 1823.2843017578125, 1823.166259765625, 1822.9293212890625, 1822.830810546875, 1822.1357421875, 1822.2061767578125, 1821.9210205078125, 1821.7542724609375, 1821.2733154296875, 1821.2572021484375, 1820.8704833984375, 1820.5626220703125, 1820.5146484375, 1820.1790771484375, 1819.904052734375, 1819.4754638671875, 1819.47021484375, 1819.2027587890625, 1818.9073486328125, 1818.9088134765625, 1818.5181884765625, 1818.3831787109375, 1817.908447265625, 1818.1728515625, 1818.16455078125, 1817.7344970703125, 1817.552490234375, 1817.3819580078125, 1816.9765625], 'val_loss': [2051.29248046875, 2019.640869140625, 2019.6761474609375, 2020.094970703125, 1984.923828125, 1943.798583984375, 1934.1136474609375, 1955.669921875, 1917.851806640625, 1909.441650390625, 1908.0338134765625, 1905.2738037109375, 1893.5240478515625, 1899.460693359375, 1900.6851806640625, 1879.7337646484375, 1889.3590087890625, 1878.7327880859375, 1879.837890625, 1870.884033203125, 1872.3486328125, 1873.3472900390625, 1864.6351318359375, 1865.6380615234375, 1872.7047119140625, 1857.157958984375, 1863.868896484375, 1857.837890625, 1852.4593505859375, 1858.4058837890625, 1852.785888671875, 1855.574951171875, 1853.7620849609375, 1864.736328125, 1855.1234130859375, 1841.803955078125, 1841.5072021484375, 1847.1513671875, 1857.883544921875, 1838.7744140625, 1845.2958984375, 1838.442626953125, 1837.2724609375, 1839.399169921875, 1840.9527587890625, 1839.897216796875, 1835.5072021484375, 1838.2525634765625, 1836.6859130859375, 1840.992919921875, 1833.934814453125, 1838.651123046875, 1835.9576416015625, 1837.8170166015625, 1840.0299072265625, 1835.2239990234375, 1840.8345947265625, 1832.9459228515625, 1831.222900390625, 1834.017333984375, 1830.736572265625, 1837.3668212890625, 1829.3876953125, 1832.8765869140625, 1835.0989990234375, 1830.340087890625, 1832.688232421875, 1828.8626708984375, 1830.3919677734375, 1829.8017578125, 1830.3837890625, 1833.378662109375, 1830.2467041015625, 1832.951904296875, 1829.5767822265625, 1827.349609375, 1828.660400390625, 1832.110595703125, 1828.171142578125, 1829.515869140625, 1826.556640625, 1832.9664306640625, 1833.2379150390625, 1826.8265380859375, 1832.5546875, 1836.054443359375, 1831.7447509765625, 1831.424560546875, 1826.224609375, 1827.925537109375, 1832.3687744140625, 1824.7281494140625, 1844.7896728515625, 1845.422607421875, 1830.158447265625, 1828.236083984375, 1828.9410400390625, 1831.6624755859375, 1831.865966796875, 1832.914794921875]}\n"
     ]
    },
    {
     "data": {
      "text/plain": [
       "[<matplotlib.lines.Line2D at 0x7fc5702f52e8>]"
      ]
     },
     "execution_count": 13,
     "metadata": {
      "tags": []
     },
     "output_type": "execute_result"
    },
    {
     "data": {
      "image/png": "[encoded data removed]",
      "text/plain": [
       "<Figure size 432x288 with 1 Axes>"
      ]
     },
     "metadata": {
      "needs_background": "light",
      "tags": []
     },
     "output_type": "display_data"
    }
   ],
   "source": [
    "print(_history.history)\n",
    "plt.plot(_history.history['loss'])\n",
    "plt.plot(_history.history['val_loss'])"
   ]
  },
  {
   "cell_type": "code",
   "execution_count": 28,
   "metadata": {
    "colab": {
     "base_uri": "https://localhost:8080/",
     "height": 515
    },
    "colab_type": "code",
    "id": "vIur778tAfyv",
    "outputId": "817331ba-b911-45b4-ddc0-1d4dd5f22b4b"
   },
   "outputs": [
    {
     "data": {
      "image/png": "[encoded data removed]",
      "text/plain": [
       "<Figure size 432x288 with 1 Axes>"
      ]
     },
     "metadata": {
      "needs_background": "light",
      "tags": []
     },
     "output_type": "display_data"
    },
    {
     "data": {
      "image/png": "[encoded data removed]",
      "text/plain": [
       "<Figure size 432x288 with 1 Axes>"
      ]
     },
     "metadata": {
      "needs_background": "light",
      "tags": []
     },
     "output_type": "display_data"
    }
   ],
   "source": [
    "randInt = np.random.randint(0,_xtest.shape[0])\n",
    "plt.imshow(_xtest[randInt])\n",
    "plt.show()\n",
    "plt.imshow(tf.nn.sigmoid(vae(_xtest[randInt:randInt+1])).numpy()[0])\n",
    "plt.show()"
   ]
  },
  {
   "cell_type": "code",
   "execution_count": 20,
   "metadata": {
    "colab": {
     "base_uri": "https://localhost:8080/",
     "height": 162
    },
    "colab_type": "code",
    "id": "Joxs5pqtAfyz",
    "outputId": "1aa87615-d8af-4e99-e25b-9b7e28ce59a3"
   },
   "outputs": [
    {
     "name": "stdout",
     "output_type": "stream",
     "text": [
      "WARNING:tensorflow:From /usr/local/lib/python3.6/dist-packages/tensorflow/python/training/tracking/tracking.py:111: Model.state_updates (from tensorflow.python.keras.engine.training) is deprecated and will be removed in a future version.\n",
      "Instructions for updating:\n",
      "This property should not be used in TensorFlow 2.0, as updates are applied automatically.\n",
      "WARNING:tensorflow:From /usr/local/lib/python3.6/dist-packages/tensorflow/python/training/tracking/tracking.py:111: Layer.updates (from tensorflow.python.keras.engine.base_layer) is deprecated and will be removed in a future version.\n",
      "Instructions for updating:\n",
      "This property should not be used in TensorFlow 2.0, as updates are applied automatically.\n",
      "INFO:tensorflow:Assets written to: ./vae/assets\n"
     ]
    }
   ],
   "source": [
    "vae.save('./vae', save_format='tf')"
   ]
  },
  {
   "cell_type": "code",
   "execution_count": 21,
   "metadata": {
    "colab": {},
    "colab_type": "code",
    "id": "tOfcLhqso0uG"
   },
   "outputs": [],
   "source": [
    "from google.colab import files"
   ]
  },
  {
   "cell_type": "code",
   "execution_count": 22,
   "metadata": {
    "colab": {
     "base_uri": "https://localhost:8080/",
     "height": 124
    },
    "colab_type": "code",
    "id": "7tQBZHbso-q4",
    "outputId": "49fb963b-0e4d-45bc-e3db-9fa42d37e0dc"
   },
   "outputs": [
    {
     "name": "stdout",
     "output_type": "stream",
     "text": [
      "  adding: vae/ (stored 0%)\n",
      "  adding: vae/saved_model.pb (deflated 88%)\n",
      "  adding: vae/variables/ (stored 0%)\n",
      "  adding: vae/variables/variables.data-00000-of-00001 (deflated 22%)\n",
      "  adding: vae/variables/variables.index (deflated 70%)\n",
      "  adding: vae/assets/ (stored 0%)\n"
     ]
    }
   ],
   "source": [
    "!zip -r vae.zip ./vae"
   ]
  },
  {
   "cell_type": "code",
   "execution_count": 23,
   "metadata": {
    "colab": {
     "base_uri": "https://localhost:8080/",
     "height": 17
    },
    "colab_type": "code",
    "id": "IiIF7PQ2pC3V",
    "outputId": "dfac55c7-54c7-48c4-ad67-50535d148646"
   },
   "outputs": [
    {
     "data": {
      "application/javascript": [
       "\n",
       "    async function download(id, filename, size) {\n",
       "      if (!google.colab.kernel.accessAllowed) {\n",
       "        return;\n",
       "      }\n",
       "      const div = document.createElement('div');\n",
       "      const label = document.createElement('label');\n",
       "      label.textContent = `Downloading \"${filename}\": `;\n",
       "      div.appendChild(label);\n",
       "      const progress = document.createElement('progress');\n",
       "      progress.max = size;\n",
       "      div.appendChild(progress);\n",
       "      document.body.appendChild(div);\n",
       "\n",
       "      const buffers = [];\n",
       "      let downloaded = 0;\n",
       "\n",
       "      const channel = await google.colab.kernel.comms.open(id);\n",
       "      // Send a message to notify the kernel that we're ready.\n",
       "      channel.send({})\n",
       "\n",
       "      for await (const message of channel.messages) {\n",
       "        // Send a message to notify the kernel that we're ready.\n",
       "        channel.send({})\n",
       "        if (message.buffers) {\n",
       "          for (const buffer of message.buffers) {\n",
       "            buffers.push(buffer);\n",
       "            downloaded += buffer.byteLength;\n",
       "            progress.value = downloaded;\n",
       "          }\n",
       "        }\n",
       "      }\n",
       "      const blob = new Blob(buffers, {type: 'application/binary'});\n",
       "      const a = document.createElement('a');\n",
       "      a.href = window.URL.createObjectURL(blob);\n",
       "      a.download = filename;\n",
       "      div.appendChild(a);\n",
       "      a.click();\n",
       "      div.remove();\n",
       "    }\n",
       "  "
      ],
      "text/plain": [
       "<IPython.core.display.Javascript object>"
      ]
     },
     "metadata": {
      "tags": []
     },
     "output_type": "display_data"
    },
    {
     "data": {
      "application/javascript": [
       "download(\"download_eab49eb8-c27b-4a99-bed8-c37dc9cfe5c4\", \"vae.zip\", 62128451)"
      ],
      "text/plain": [
       "<IPython.core.display.Javascript object>"
      ]
     },
     "metadata": {
      "tags": []
     },
     "output_type": "display_data"
    }
   ],
   "source": [
    "files.download('vae.zip')"
   ]
  },
  {
   "cell_type": "code",
   "execution_count": 3,
   "metadata": {
    "colab": {},
    "colab_type": "code",
    "id": "VQKfJEpVpFxb"
   },
   "outputs": [],
   "source": [
    "model = tf.saved_model.load('./vae')"
   ]
  },
  {
   "cell_type": "code",
   "execution_count": 50,
   "metadata": {},
   "outputs": [
    {
     "data": {
      "image/png": "[encoded data removed]",
      "text/plain": [
       "<Figure size 432x288 with 1 Axes>"
      ]
     },
     "metadata": {
      "needs_background": "light"
     },
     "output_type": "display_data"
    }
   ],
   "source": [
    "out = tf.nn.sigmoid(model.decoder(tf.random.normal([1,512]))).numpy()[0]\n",
    "plt.imshow(out)\n",
    "plt.show()"
   ]
  },
  {
   "cell_type": "code",
   "execution_count": null,
   "metadata": {},
   "outputs": [],
   "source": []
  },
  {
   "cell_type": "code",
   "execution_count": null,
   "metadata": {},
   "outputs": [],
   "source": []
  }
 ],
 "metadata": {
  "accelerator": "GPU",
  "colab": {
   "collapsed_sections": [],
   "name": "VAE.ipynb",
   "provenance": []
  },
  "kernelspec": {
   "display_name": "Python 3",
   "language": "python",
   "name": "python3"
  },
  "language_info": {
   "codemirror_mode": {
    "name": "ipython",
    "version": 3
   },
   "file_extension": ".py",
   "mimetype": "text/x-python",
   "name": "python",
   "nbconvert_exporter": "python",
   "pygments_lexer": "ipython3",
   "version": "3.6.12"
  }
 },
 "nbformat": 4,
 "nbformat_minor": 4
}
